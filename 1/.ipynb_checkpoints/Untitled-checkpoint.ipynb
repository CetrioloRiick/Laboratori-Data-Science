{
 "cells": [
  {
   "cell_type": "markdown",
   "id": "73e29c3b-ff8d-4253-a800-0df49962c443",
   "metadata": {},
   "source": [
    "# Relazione – Laboratori di Data Science (Algebra Lineare)\n",
    "\n",
    "Questa relazione raccoglie lo svolgimento degli esercizi del **Foglio 1 – Algebra Lineare** \n",
    "del corso di Data Science (Laurea in Scienza dei Materiali, Alma Mater Studiorum – Università di Bologna, \n",
    "a.a. 2025/2026).\n",
    "\n",
    "Per maggiori dettagli, si rimanda alla repository GitHub:  \n",
    "🔗 [Laboratori-Data-Science](https://github.com/CetrioloRiick/Laboratori-Data-Science.git)\n"
   ]
  },
  {
   "cell_type": "markdown",
   "id": "09cca6bb-3588-47be-98e1-027477a007e0",
   "metadata": {},
   "source": [
    "## Esercizio 1"
   ]
  },
  {
   "cell_type": "markdown",
   "id": "9a73b03a-71e6-44d0-82e7-ccff8e0b2c98",
   "metadata": {},
   "source": [
    "### 1a\n",
    "\n",
    "Il codice svolge i seguenti passaggi principali:\n",
    "\n",
    "- Calcola **autovalori e autovettori** della matrice \\(A\\), necessari per applicare la formula di diagonalizzazione.\n",
    "- Genera un vettore di tempi \\(t\\) equispaziati nell’intervallo \\([0,5]\\).  \n",
    "- Per ciascun valore di \\(t\\), costruisce la **matrice esponenziale** corrispondente.  \n",
    "- Raccoglie tutti i risultati in un array tridimensionale, dove ogni “strato” rappresenta \\(e^{At}\\) a un certo istante.  \n",
    "- Utilizza **Matplotlib** per rappresentare graficamente i quattro elementi della matrice esponenziale in quattro subplot distinti.  \n",
    "- Aggiunge legende ed etichette per identificare ogni curva.  \n",
    "- Inserisce griglie in tutti i subplot per migliorare la leggibilità.  \n",
    "- Imposta un titolo generale per riassumere l’oggetto dello studio.  \n",
    "- Stampa a schermo gli **autovalori e gli autovettori** di \\(A\\), utili per interpretare il comportamento del sistema.  \n"
   ]
  }
 ],
 "metadata": {
  "kernelspec": {
   "display_name": "Python 3 (ipykernel)",
   "language": "python",
   "name": "python3"
  },
  "language_info": {
   "codemirror_mode": {
    "name": "ipython",
    "version": 3
   },
   "file_extension": ".py",
   "mimetype": "text/x-python",
   "name": "python",
   "nbconvert_exporter": "python",
   "pygments_lexer": "ipython3",
   "version": "3.13.7"
  }
 },
 "nbformat": 4,
 "nbformat_minor": 5
}
